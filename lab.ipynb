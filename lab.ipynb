{
 "cells": [
  {
   "cell_type": "markdown",
   "source": [
    "### Test notebook for development"
   ],
   "metadata": {
    "collapsed": false
   },
   "id": "e4e2c694b7d85554"
  },
  {
   "cell_type": "markdown",
   "source": [
    "**Testing the model**"
   ],
   "metadata": {
    "collapsed": false
   },
   "id": "28e105efa84e4f09"
  },
  {
   "cell_type": "code",
   "execution_count": null,
   "id": "initial_id",
   "metadata": {
    "collapsed": true
   },
   "outputs": [],
   "source": [
    "from src.model import AutoencoderConfig, SparseAutoencoder\n",
    "from src.trainer import TrainingConfig, MonosemanticityTrainer\n",
    "import torch"
   ]
  },
  {
   "cell_type": "code",
   "outputs": [],
   "source": [
    "model_config = AutoencoderConfig(\n",
    "     input_dim=768,\n",
    "    hidden_dim=1024,\n",
    ")\n",
    "trainer_config = TrainingConfig(\n",
    "    batch_size=64,\n",
    "    num_epochs= 10,\n",
    "    mixed_precision= 'fp16',\n",
    "    run_path='tests/',\n",
    "    learning_rate=1e-4\n",
    ")"
   ],
   "metadata": {
    "collapsed": false
   },
   "id": "d8bbb9e972b53a0"
  },
  {
   "cell_type": "code",
   "outputs": [],
   "source": [
    "# model and optimizer\n",
    "model = SparseAutoencoder(model_config)\n",
    "optimizer = torch.optim.Adam(model.parameters(), lr=trainer_config.learning_rate)\n",
    "trainer = MonosemanticityTrainer(model, optimizer=optimizer, train_config=trainer_config)"
   ],
   "metadata": {
    "collapsed": false
   },
   "id": "c1bd99f0305837c3"
  },
  {
   "cell_type": "code",
   "outputs": [],
   "source": [
    "# sample data\n",
    "normal_dist = torch.distributions.Normal(loc=0, scale=1)\n",
    "samples = normal_dist.sample(sample_shape=torch.Size([512,model_config.input_dim]))\n",
    "dataset = torch.utils.data.TensorDataset(samples)\n",
    "train_loader = torch.utils.data.DataLoader(dataset, batch_size = trainer_config.batch_size, shuffle=True)"
   ],
   "metadata": {
    "collapsed": false
   },
   "id": "6e430046ab8d0d22"
  },
  {
   "cell_type": "code",
   "outputs": [],
   "source": [
    "# training\n",
    "trainer.train(train_loader)"
   ],
   "metadata": {
    "collapsed": false
   },
   "id": "df8ea8c52e62b508"
  },
  {
   "cell_type": "markdown",
   "source": [
    "**Testing data generation**"
   ],
   "metadata": {
    "collapsed": false
   },
   "id": "823e6acf92566301"
  },
  {
   "cell_type": "code",
   "outputs": [],
   "source": [],
   "metadata": {
    "collapsed": false
   },
   "id": "866f13e1f9342176"
  }
 ],
 "metadata": {
  "kernelspec": {
   "display_name": "Python 3",
   "language": "python",
   "name": "python3"
  },
  "language_info": {
   "codemirror_mode": {
    "name": "ipython",
    "version": 2
   },
   "file_extension": ".py",
   "mimetype": "text/x-python",
   "name": "python",
   "nbconvert_exporter": "python",
   "pygments_lexer": "ipython2",
   "version": "2.7.6"
  }
 },
 "nbformat": 4,
 "nbformat_minor": 5
}
